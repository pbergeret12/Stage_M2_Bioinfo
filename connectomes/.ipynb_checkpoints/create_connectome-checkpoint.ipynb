{
 "cells": [
  {
   "cell_type": "code",
   "execution_count": 2,
   "id": "96bfaf61",
   "metadata": {},
   "outputs": [
    {
     "name": "stderr",
     "output_type": "stream",
     "text": [
      "/home/pierre/.local/lib/python3.9/site-packages/nilearn/input_data/__init__.py:27: FutureWarning: The import path 'nilearn.input_data' is deprecated in version 0.9. Importing from 'nilearn.input_data' will be possible at least until release 0.13.0. Please import from 'nilearn.maskers' instead.\n",
      "  warnings.warn(message, FutureWarning)\n"
     ]
    }
   ],
   "source": [
    "import pandas as pd\n",
    "import os\n",
    "import glob\n",
    "import numpy as np\n",
    "from nilearn import plotting\n",
    "from nilearn.input_data import NiftiLabelsMasker\n",
    "\n",
    "from nilearn import datasets\n",
    "\n",
    "data_dir = None # change this variable with the path where you want nilearn to download\n",
    "                # the data, if you leave None, the default will be '~/nilearn_data'\n",
    "    \n",
    "# Loading the functional datasets\n",
    "data = datasets.fetch_development_fmri(n_subjects=1, data_dir=data_dir)\n",
    "\n",
    "# you can use the .keys() method to check what's in the dataset\n",
    "data.keys()\n",
    "from nilearn.connectome import ConnectivityMeasure\n",
    "from nilearn.interfaces.fmriprep import load_confounds\n",
    "from nilearn.interfaces.fmriprep import load_confounds_strategy\n",
    "from nilearn.input_data import NiftiMapsMasker\n",
    "from nilearn.input_data import NiftiMasker\n",
    "\n",
    "### Atlas\n",
    "\n",
    "atlas_dataset = datasets.fetch_atlas_msdl(data_dir=data_dir)\n",
    "atlas_filepath = atlas_dataset.maps\n",
    "labels = atlas_dataset.labels\n",
    "\n",
    "### Atlas Yeo 2011\n",
    "\n",
    "atlas_yeo_2011 = datasets.fetch_atlas_yeo_2011(data_dir=data_dir)\n",
    "yeo_2011_filepath = atlas_yeo_2011.thick_7\n",
    "\n",
    "\n",
    "### Atlas Yeo 2018\n",
    "\n",
    "atlas_yeo_2018 = datasets.fetch_atlas_schaefer_2018(n_rois = 100, yeo_networks = 7, data_dir=data_dir)\n",
    "yeo_2018_filepath = atlas_yeo_2018.maps\n",
    "yeo_2018_labels = atlas_yeo_2018.labels\n",
    "\n",
    "### Fonctions\n",
    "\n",
    "###selectionne la run avec la framewise_displacement moyenne la plus faible pour un sujet donné\n",
    "def less_motion(path_subj):  \n",
    "    dic = {}\n",
    "    res = 0\n",
    "    mini = float(\"inf\")\n",
    "    liste_tsv=glob.glob('{}/*/*/*timeseries.tsv'.format(path_subj))\n",
    "    for i in liste_tsv:\n",
    "        dic[i] = pd.read_csv(i, sep='\\t')\n",
    "    for k in dic:\n",
    "        moy = dic[k]['framewise_displacement'].mean()\n",
    "        if moy < mini:\n",
    "            mini = moy\n",
    "            run = k\n",
    "            df = dic[k]\n",
    "            bold = \"{}space-MNI152NLin6Asym_desc-smoothAROMAnonaggr_bold.nii.gz\".format(run[0:-29])\n",
    "    return bold, mini\n",
    "\n",
    "\n",
    "def make_connectome(fmri_filepath): ### création du connectome\n",
    "    confounds_ica, sample_mask = load_confounds(    ### gestion des confounds\n",
    "        fmri_filepath,\n",
    "        strategy=[\"high_pass\", \"motion\", \"wm_csf\", \"ica_aroma\"],\n",
    "        motion=\"basic\", wm_csf=\"basic\", ica_aroma=\"full\")\n",
    "\n",
    "    atlas_masker = NiftiLabelsMasker(labels_img=yeo_2011_filepath, standardize=True)\n",
    "    data_in_atlas = atlas_masker.fit_transform(fmri_filepath, confounds=confounds_ica)\n",
    "    correlation_measure = ConnectivityMeasure(kind='correlation')\n",
    "    correlation_matrix = correlation_measure.fit_transform([data_in_atlas])[0]\n",
    "    \n",
    "    return correlation_matrix\n",
    "\n",
    "def plot_matrix(matrix):  ### affiche la matrice de correlation\n",
    "    # Make a large figure\n",
    "    # Mask the main diagonal for visualization:\n",
    "    np.fill_diagonal(matrix, 0)\n",
    "    # The matrix is reordered for block-like representation\n",
    "    plotting.plot_matrix(matrix, figure=(10, 8),\n",
    "                     vmax=0.8, vmin=-0.8, reorder=False,labels = yeo_2011_labels, title = \"{}\".format(i))\n",
    "\n",
    "### retourne une liste de chemin vers les sujets    \n",
    "def create_path_subj(list_subj): \n",
    "    list_path = []\n",
    "    for i in list_subj:\n",
    "        list_path.append('{}/sub-{}'.format(path, i))\n",
    "    return list_path\n",
    "\n",
    "### retourne un dictionnaire comportant la meilleure run pour chaque sujet\n",
    "def create_dictbold_motionless(list_path):    \n",
    "    dict_bold_motionless = {}\n",
    "    dict_fw = {}\n",
    "    for sub in list_path:\n",
    "        dict_bold_motionless[sub[-8:]], dict_fw[sub[-8:]] = less_motion(path_subj = sub)\n",
    "    return dict_bold_motionless, dict_fw\n",
    "\n",
    "### retourne un dictionnaire associant chaque sujet à son connectome\n",
    "def create_dict_connectome(dict_bold_motionless):\n",
    "    dict_connectome = {}\n",
    "    for i in dict_bold_motionless:\n",
    "        dict_connectome[i] = make_connectome(dict_bold_motionless[i])\n",
    "    return dict_connectome"
   ]
  },
  {
   "cell_type": "code",
   "execution_count": 3,
   "id": "c5ae8eed",
   "metadata": {},
   "outputs": [
    {
     "data": {
      "text/plain": [
       "Index(['sub-0003', 'sub-0023', 'sub-0070', 'sub-0095', 'sub-0096', 'sub-0114',\n",
       "       'sub-0132', 'sub-0178', 'sub-0182', 'sub-0183',\n",
       "       ...\n",
       "       'sub-1364', 'sub-1374', 'sub-1376', 'sub-1387', 'sub-1398', 'sub-1401',\n",
       "       'sub-1411', 'sub-1425', 'sub-1460', 'sub-1491'],\n",
       "      dtype='object', name='participant_id', length=440)"
      ]
     },
     "execution_count": 3,
     "metadata": {},
     "output_type": "execute_result"
    }
   ],
   "source": [
    "df_participants = pd.read_excel(\"/home/pierre/Documents/participants-func.xlsx\")\n",
    "df_participants = df_participants.set_index('participant_id')\n",
    "df_participants.index\n",
    "\n"
   ]
  },
  {
   "cell_type": "code",
   "execution_count": 4,
   "id": "0f9a8e8c",
   "metadata": {},
   "outputs": [],
   "source": [
    "list_fwd_ban = ['0114', '0216', '0243', '0271', '0298', '0398', '0413', '0420', '0440', '0453', '0460', '0530', '0576', '0790', '0879', '0911', '1311', '1317', '1364', '1398']"
   ]
  },
  {
   "cell_type": "code",
   "execution_count": 5,
   "id": "0802326b",
   "metadata": {},
   "outputs": [
    {
     "name": "stdout",
     "output_type": "stream",
     "text": [
      "['0220', '0237', '0287', '0303', '0360', '0386', '0454', '0456', '0495', '0531', '0581', '0743', '0776', '0864', '0866', '0912', '0936', '1215', '1401', '0200', '0023', '0178', '0373']\n"
     ]
    }
   ],
   "source": [
    "path = \"/home/pierre/Documents/export/iso+tfe+st\"\n",
    "\n",
    "liste_path_sub = glob.glob('{}/sub*/'.format(path))\n",
    "liste_path_sub = sorted(liste_path_sub)\n",
    "\n",
    "banlist = []\n",
    "for i in liste_path_sub:\n",
    "    if not glob.glob(\"{}/*/func/*bold.nii.gz\".format(i)):\n",
    "        banlist.append(i[-5:-1])\n",
    "other_ban = ['0200', '0023', '0178', '0373']\n",
    "for i in other_ban:\n",
    "    banlist.append(i)\n",
    "print(banlist)\n"
   ]
  },
  {
   "cell_type": "code",
   "execution_count": 6,
   "id": "ea3130ae",
   "metadata": {
    "scrolled": false
   },
   "outputs": [],
   "source": [
    "liste_sub = []\n",
    "j = 0\n",
    "maxi = 500\n",
    "last = \"0000\"\n",
    "for i in liste_path_sub:\n",
    "    if j < maxi and i[-5:-1] > last and i[-5:-1] not in banlist and i[-9:-1] in df_participants.index:\n",
    "        liste_sub.append(i[-5:-1])\n",
    "        j = j+1\n",
    "        \n",
    "liste_y = liste_sub\n",
    "\n",
    "liste_y_comp = []\n",
    "for i in liste_y:\n",
    "    liste_y_comp.append(\"sub-{}\".format(i))\n",
    "\n",
    "liste_path_y = create_path_subj(liste_y)\n",
    "dict_bold_motionless_y, dict_fw_y = create_dictbold_motionless(liste_path_y)\n",
    "\n"
   ]
  },
  {
   "cell_type": "code",
   "execution_count": 7,
   "id": "63c7cd99",
   "metadata": {},
   "outputs": [
    {
     "ename": "KeyboardInterrupt",
     "evalue": "",
     "output_type": "error",
     "traceback": [
      "\u001b[0;31m---------------------------------------------------------------------------\u001b[0m",
      "\u001b[0;31mKeyboardInterrupt\u001b[0m                         Traceback (most recent call last)",
      "Input \u001b[0;32mIn [7]\u001b[0m, in \u001b[0;36m<cell line: 1>\u001b[0;34m()\u001b[0m\n\u001b[0;32m----> 1\u001b[0m dict_connectome_y \u001b[38;5;241m=\u001b[39m \u001b[43mcreate_dict_connectome\u001b[49m\u001b[43m(\u001b[49m\u001b[43mdict_bold_motionless_y\u001b[49m\u001b[43m)\u001b[49m\n",
      "Input \u001b[0;32mIn [2]\u001b[0m, in \u001b[0;36mcreate_dict_connectome\u001b[0;34m(dict_bold_motionless)\u001b[0m\n\u001b[1;32m    100\u001b[0m dict_connectome \u001b[38;5;241m=\u001b[39m {}\n\u001b[1;32m    101\u001b[0m \u001b[38;5;28;01mfor\u001b[39;00m i \u001b[38;5;129;01min\u001b[39;00m dict_bold_motionless:\n\u001b[0;32m--> 102\u001b[0m     dict_connectome[i] \u001b[38;5;241m=\u001b[39m \u001b[43mmake_connectome\u001b[49m\u001b[43m(\u001b[49m\u001b[43mdict_bold_motionless\u001b[49m\u001b[43m[\u001b[49m\u001b[43mi\u001b[49m\u001b[43m]\u001b[49m\u001b[43m)\u001b[49m\n\u001b[1;32m    103\u001b[0m \u001b[38;5;28;01mreturn\u001b[39;00m dict_connectome\n",
      "Input \u001b[0;32mIn [2]\u001b[0m, in \u001b[0;36mmake_connectome\u001b[0;34m(fmri_filepath)\u001b[0m\n\u001b[1;32m     63\u001b[0m confounds_ica, sample_mask \u001b[38;5;241m=\u001b[39m load_confounds(    \u001b[38;5;66;03m### gestion des confounds\u001b[39;00m\n\u001b[1;32m     64\u001b[0m     fmri_filepath,\n\u001b[1;32m     65\u001b[0m     strategy\u001b[38;5;241m=\u001b[39m[\u001b[38;5;124m\"\u001b[39m\u001b[38;5;124mhigh_pass\u001b[39m\u001b[38;5;124m\"\u001b[39m, \u001b[38;5;124m\"\u001b[39m\u001b[38;5;124mmotion\u001b[39m\u001b[38;5;124m\"\u001b[39m, \u001b[38;5;124m\"\u001b[39m\u001b[38;5;124mwm_csf\u001b[39m\u001b[38;5;124m\"\u001b[39m, \u001b[38;5;124m\"\u001b[39m\u001b[38;5;124mica_aroma\u001b[39m\u001b[38;5;124m\"\u001b[39m],\n\u001b[1;32m     66\u001b[0m     motion\u001b[38;5;241m=\u001b[39m\u001b[38;5;124m\"\u001b[39m\u001b[38;5;124mbasic\u001b[39m\u001b[38;5;124m\"\u001b[39m, wm_csf\u001b[38;5;241m=\u001b[39m\u001b[38;5;124m\"\u001b[39m\u001b[38;5;124mbasic\u001b[39m\u001b[38;5;124m\"\u001b[39m, ica_aroma\u001b[38;5;241m=\u001b[39m\u001b[38;5;124m\"\u001b[39m\u001b[38;5;124mfull\u001b[39m\u001b[38;5;124m\"\u001b[39m)\n\u001b[1;32m     68\u001b[0m atlas_masker \u001b[38;5;241m=\u001b[39m NiftiLabelsMasker(labels_img\u001b[38;5;241m=\u001b[39myeo_2011_filepath, standardize\u001b[38;5;241m=\u001b[39m\u001b[38;5;28;01mTrue\u001b[39;00m)\n\u001b[0;32m---> 69\u001b[0m data_in_atlas \u001b[38;5;241m=\u001b[39m \u001b[43matlas_masker\u001b[49m\u001b[38;5;241;43m.\u001b[39;49m\u001b[43mfit_transform\u001b[49m\u001b[43m(\u001b[49m\u001b[43mfmri_filepath\u001b[49m\u001b[43m,\u001b[49m\u001b[43m \u001b[49m\u001b[43mconfounds\u001b[49m\u001b[38;5;241;43m=\u001b[39;49m\u001b[43mconfounds_ica\u001b[49m\u001b[43m)\u001b[49m\n\u001b[1;32m     70\u001b[0m correlation_measure \u001b[38;5;241m=\u001b[39m ConnectivityMeasure(kind\u001b[38;5;241m=\u001b[39m\u001b[38;5;124m'\u001b[39m\u001b[38;5;124mcorrelation\u001b[39m\u001b[38;5;124m'\u001b[39m)\n\u001b[1;32m     71\u001b[0m correlation_matrix \u001b[38;5;241m=\u001b[39m correlation_measure\u001b[38;5;241m.\u001b[39mfit_transform([data_in_atlas])[\u001b[38;5;241m0\u001b[39m]\n",
      "File \u001b[0;32m~/.local/lib/python3.9/site-packages/nilearn/maskers/nifti_labels_masker.py:396\u001b[0m, in \u001b[0;36mNiftiLabelsMasker.fit_transform\u001b[0;34m(self, imgs, confounds, sample_mask)\u001b[0m\n\u001b[1;32m    392\u001b[0m \u001b[38;5;28;01mdef\u001b[39;00m \u001b[38;5;21mfit_transform\u001b[39m(\u001b[38;5;28mself\u001b[39m, imgs, confounds\u001b[38;5;241m=\u001b[39m\u001b[38;5;28;01mNone\u001b[39;00m, sample_mask\u001b[38;5;241m=\u001b[39m\u001b[38;5;28;01mNone\u001b[39;00m):\n\u001b[1;32m    393\u001b[0m     \u001b[38;5;124;03m\"\"\" Prepare and perform signal extraction from regions.\u001b[39;00m\n\u001b[1;32m    394\u001b[0m \n\u001b[1;32m    395\u001b[0m \u001b[38;5;124;03m    \"\"\"\u001b[39;00m\n\u001b[0;32m--> 396\u001b[0m     \u001b[38;5;28;01mreturn\u001b[39;00m \u001b[38;5;28;43mself\u001b[39;49m\u001b[38;5;241;43m.\u001b[39;49m\u001b[43mfit\u001b[49m\u001b[43m(\u001b[49m\u001b[43m)\u001b[49m\u001b[38;5;241;43m.\u001b[39;49m\u001b[43mtransform\u001b[49m\u001b[43m(\u001b[49m\u001b[43mimgs\u001b[49m\u001b[43m,\u001b[49m\u001b[43m \u001b[49m\u001b[43mconfounds\u001b[49m\u001b[38;5;241;43m=\u001b[39;49m\u001b[43mconfounds\u001b[49m\u001b[43m,\u001b[49m\n\u001b[1;32m    397\u001b[0m \u001b[43m                                \u001b[49m\u001b[43msample_mask\u001b[49m\u001b[38;5;241;43m=\u001b[39;49m\u001b[43msample_mask\u001b[49m\u001b[43m)\u001b[49m\n",
      "File \u001b[0;32m~/.local/lib/python3.9/site-packages/nilearn/maskers/base_masker.py:213\u001b[0m, in \u001b[0;36mBaseMasker.transform\u001b[0;34m(self, imgs, confounds, sample_mask)\u001b[0m\n\u001b[1;32m    210\u001b[0m     \u001b[38;5;28;01melse\u001b[39;00m:\n\u001b[1;32m    211\u001b[0m         all_confounds\u001b[38;5;241m.\u001b[39mappend(confounds)\n\u001b[0;32m--> 213\u001b[0m \u001b[38;5;28;01mreturn\u001b[39;00m \u001b[38;5;28;43mself\u001b[39;49m\u001b[38;5;241;43m.\u001b[39;49m\u001b[43mtransform_single_imgs\u001b[49m\u001b[43m(\u001b[49m\u001b[43mimgs\u001b[49m\u001b[43m,\u001b[49m\u001b[43m \u001b[49m\u001b[43mconfounds\u001b[49m\u001b[38;5;241;43m=\u001b[39;49m\u001b[43mall_confounds\u001b[49m\u001b[43m,\u001b[49m\n\u001b[1;32m    214\u001b[0m \u001b[43m                                  \u001b[49m\u001b[43msample_mask\u001b[49m\u001b[38;5;241;43m=\u001b[39;49m\u001b[43msample_mask\u001b[49m\u001b[43m)\u001b[49m\n",
      "File \u001b[0;32m~/.local/lib/python3.9/site-packages/nilearn/maskers/nifti_labels_masker.py:492\u001b[0m, in \u001b[0;36mNiftiLabelsMasker.transform_single_imgs\u001b[0;34m(self, imgs, confounds, sample_mask)\u001b[0m\n\u001b[1;32m    489\u001b[0m params[\u001b[38;5;124m'\u001b[39m\u001b[38;5;124mtarget_shape\u001b[39m\u001b[38;5;124m'\u001b[39m] \u001b[38;5;241m=\u001b[39m target_shape\n\u001b[1;32m    490\u001b[0m params[\u001b[38;5;124m'\u001b[39m\u001b[38;5;124mtarget_affine\u001b[39m\u001b[38;5;124m'\u001b[39m] \u001b[38;5;241m=\u001b[39m target_affine\n\u001b[0;32m--> 492\u001b[0m region_signals, labels_ \u001b[38;5;241m=\u001b[39m \u001b[38;5;28;43mself\u001b[39;49m\u001b[38;5;241;43m.\u001b[39;49m\u001b[43m_cache\u001b[49m\u001b[43m(\u001b[49m\n\u001b[1;32m    493\u001b[0m \u001b[43m    \u001b[49m\u001b[43m_filter_and_extract\u001b[49m\u001b[43m,\u001b[49m\n\u001b[1;32m    494\u001b[0m \u001b[43m    \u001b[49m\u001b[43mignore\u001b[49m\u001b[38;5;241;43m=\u001b[39;49m\u001b[43m[\u001b[49m\u001b[38;5;124;43m'\u001b[39;49m\u001b[38;5;124;43mverbose\u001b[39;49m\u001b[38;5;124;43m'\u001b[39;49m\u001b[43m,\u001b[49m\u001b[43m \u001b[49m\u001b[38;5;124;43m'\u001b[39;49m\u001b[38;5;124;43mmemory\u001b[39;49m\u001b[38;5;124;43m'\u001b[39;49m\u001b[43m,\u001b[49m\u001b[43m \u001b[49m\u001b[38;5;124;43m'\u001b[39;49m\u001b[38;5;124;43mmemory_level\u001b[39;49m\u001b[38;5;124;43m'\u001b[39;49m\u001b[43m]\u001b[49m\n\u001b[1;32m    495\u001b[0m \u001b[43m\u001b[49m\u001b[43m)\u001b[49m\u001b[43m(\u001b[49m\n\u001b[1;32m    496\u001b[0m \u001b[43m    \u001b[49m\u001b[38;5;66;43;03m# Images\u001b[39;49;00m\n\u001b[1;32m    497\u001b[0m \u001b[43m    \u001b[49m\u001b[43mimgs\u001b[49m\u001b[43m,\u001b[49m\u001b[43m \u001b[49m\u001b[43m_ExtractionFunctor\u001b[49m\u001b[43m(\u001b[49m\u001b[38;5;28;43mself\u001b[39;49m\u001b[38;5;241;43m.\u001b[39;49m\u001b[43m_resampled_labels_img_\u001b[49m\u001b[43m,\u001b[49m\n\u001b[1;32m    498\u001b[0m \u001b[43m                             \u001b[49m\u001b[38;5;28;43mself\u001b[39;49m\u001b[38;5;241;43m.\u001b[39;49m\u001b[43mbackground_label\u001b[49m\u001b[43m,\u001b[49m\u001b[43m \u001b[49m\u001b[38;5;28;43mself\u001b[39;49m\u001b[38;5;241;43m.\u001b[39;49m\u001b[43mstrategy\u001b[49m\u001b[43m,\u001b[49m\n\u001b[1;32m    499\u001b[0m \u001b[43m                             \u001b[49m\u001b[38;5;28;43mself\u001b[39;49m\u001b[38;5;241;43m.\u001b[39;49m\u001b[43m_resampled_mask_img\u001b[49m\u001b[43m)\u001b[49m\u001b[43m,\u001b[49m\n\u001b[1;32m    500\u001b[0m \u001b[43m    \u001b[49m\u001b[38;5;66;43;03m# Pre-processing\u001b[39;49;00m\n\u001b[1;32m    501\u001b[0m \u001b[43m    \u001b[49m\u001b[43mparams\u001b[49m\u001b[43m,\u001b[49m\n\u001b[1;32m    502\u001b[0m \u001b[43m    \u001b[49m\u001b[43mconfounds\u001b[49m\u001b[38;5;241;43m=\u001b[39;49m\u001b[43mconfounds\u001b[49m\u001b[43m,\u001b[49m\n\u001b[1;32m    503\u001b[0m \u001b[43m    \u001b[49m\u001b[43msample_mask\u001b[49m\u001b[38;5;241;43m=\u001b[39;49m\u001b[43msample_mask\u001b[49m\u001b[43m,\u001b[49m\n\u001b[1;32m    504\u001b[0m \u001b[43m    \u001b[49m\u001b[43mdtype\u001b[49m\u001b[38;5;241;43m=\u001b[39;49m\u001b[38;5;28;43mself\u001b[39;49m\u001b[38;5;241;43m.\u001b[39;49m\u001b[43mdtype\u001b[49m\u001b[43m,\u001b[49m\n\u001b[1;32m    505\u001b[0m \u001b[43m    \u001b[49m\u001b[38;5;66;43;03m# Caching\u001b[39;49;00m\n\u001b[1;32m    506\u001b[0m \u001b[43m    \u001b[49m\u001b[43mmemory\u001b[49m\u001b[38;5;241;43m=\u001b[39;49m\u001b[38;5;28;43mself\u001b[39;49m\u001b[38;5;241;43m.\u001b[39;49m\u001b[43mmemory\u001b[49m\u001b[43m,\u001b[49m\n\u001b[1;32m    507\u001b[0m \u001b[43m    \u001b[49m\u001b[43mmemory_level\u001b[49m\u001b[38;5;241;43m=\u001b[39;49m\u001b[38;5;28;43mself\u001b[39;49m\u001b[38;5;241;43m.\u001b[39;49m\u001b[43mmemory_level\u001b[49m\u001b[43m,\u001b[49m\n\u001b[1;32m    508\u001b[0m \u001b[43m    \u001b[49m\u001b[43mverbose\u001b[49m\u001b[38;5;241;43m=\u001b[39;49m\u001b[38;5;28;43mself\u001b[39;49m\u001b[38;5;241;43m.\u001b[39;49m\u001b[43mverbose\u001b[49m\u001b[43m)\u001b[49m\n\u001b[1;32m    510\u001b[0m \u001b[38;5;28mself\u001b[39m\u001b[38;5;241m.\u001b[39mlabels_ \u001b[38;5;241m=\u001b[39m labels_\n\u001b[1;32m    512\u001b[0m \u001b[38;5;28;01mreturn\u001b[39;00m region_signals\n",
      "File \u001b[0;32m~/anaconda3/lib/python3.9/site-packages/joblib/memory.py:349\u001b[0m, in \u001b[0;36mNotMemorizedFunc.__call__\u001b[0;34m(self, *args, **kwargs)\u001b[0m\n\u001b[1;32m    348\u001b[0m \u001b[38;5;28;01mdef\u001b[39;00m \u001b[38;5;21m__call__\u001b[39m(\u001b[38;5;28mself\u001b[39m, \u001b[38;5;241m*\u001b[39margs, \u001b[38;5;241m*\u001b[39m\u001b[38;5;241m*\u001b[39mkwargs):\n\u001b[0;32m--> 349\u001b[0m     \u001b[38;5;28;01mreturn\u001b[39;00m \u001b[38;5;28;43mself\u001b[39;49m\u001b[38;5;241;43m.\u001b[39;49m\u001b[43mfunc\u001b[49m\u001b[43m(\u001b[49m\u001b[38;5;241;43m*\u001b[39;49m\u001b[43margs\u001b[49m\u001b[43m,\u001b[49m\u001b[43m \u001b[49m\u001b[38;5;241;43m*\u001b[39;49m\u001b[38;5;241;43m*\u001b[39;49m\u001b[43mkwargs\u001b[49m\u001b[43m)\u001b[49m\n",
      "File \u001b[0;32m~/.local/lib/python3.9/site-packages/nilearn/maskers/base_masker.py:94\u001b[0m, in \u001b[0;36m_filter_and_extract\u001b[0;34m(imgs, extraction_function, parameters, memory_level, memory, verbose, confounds, sample_mask, copy, dtype)\u001b[0m\n\u001b[1;32m     92\u001b[0m \u001b[38;5;28;01mif\u001b[39;00m verbose \u001b[38;5;241m>\u001b[39m \u001b[38;5;241m0\u001b[39m:\n\u001b[1;32m     93\u001b[0m     \u001b[38;5;28mprint\u001b[39m(\u001b[38;5;124m\"\u001b[39m\u001b[38;5;124m[\u001b[39m\u001b[38;5;132;01m%s\u001b[39;00m\u001b[38;5;124m] Extracting region signals\u001b[39m\u001b[38;5;124m\"\u001b[39m \u001b[38;5;241m%\u001b[39m class_name)\n\u001b[0;32m---> 94\u001b[0m region_signals, aux \u001b[38;5;241m=\u001b[39m \u001b[43mcache\u001b[49m\u001b[43m(\u001b[49m\u001b[43mextraction_function\u001b[49m\u001b[43m,\u001b[49m\u001b[43m \u001b[49m\u001b[43mmemory\u001b[49m\u001b[43m,\u001b[49m\n\u001b[1;32m     95\u001b[0m \u001b[43m                            \u001b[49m\u001b[43mfunc_memory_level\u001b[49m\u001b[38;5;241;43m=\u001b[39;49m\u001b[38;5;241;43m2\u001b[39;49m\u001b[43m,\u001b[49m\n\u001b[1;32m     96\u001b[0m \u001b[43m                            \u001b[49m\u001b[43mmemory_level\u001b[49m\u001b[38;5;241;43m=\u001b[39;49m\u001b[43mmemory_level\u001b[49m\u001b[43m)\u001b[49m\u001b[43m(\u001b[49m\u001b[43mimgs\u001b[49m\u001b[43m)\u001b[49m\n\u001b[1;32m     98\u001b[0m \u001b[38;5;66;03m# Temporal\u001b[39;00m\n\u001b[1;32m     99\u001b[0m \u001b[38;5;66;03m# --------\u001b[39;00m\n\u001b[1;32m    100\u001b[0m \u001b[38;5;66;03m# Detrending (optional)\u001b[39;00m\n\u001b[1;32m    101\u001b[0m \u001b[38;5;66;03m# Filtering\u001b[39;00m\n\u001b[1;32m    102\u001b[0m \u001b[38;5;66;03m# Confounds removing (from csv file or numpy array)\u001b[39;00m\n\u001b[1;32m    103\u001b[0m \u001b[38;5;66;03m# Normalizing\u001b[39;00m\n\u001b[1;32m    104\u001b[0m \u001b[38;5;28;01mif\u001b[39;00m verbose \u001b[38;5;241m>\u001b[39m \u001b[38;5;241m0\u001b[39m:\n",
      "File \u001b[0;32m~/anaconda3/lib/python3.9/site-packages/joblib/memory.py:349\u001b[0m, in \u001b[0;36mNotMemorizedFunc.__call__\u001b[0;34m(self, *args, **kwargs)\u001b[0m\n\u001b[1;32m    348\u001b[0m \u001b[38;5;28;01mdef\u001b[39;00m \u001b[38;5;21m__call__\u001b[39m(\u001b[38;5;28mself\u001b[39m, \u001b[38;5;241m*\u001b[39margs, \u001b[38;5;241m*\u001b[39m\u001b[38;5;241m*\u001b[39mkwargs):\n\u001b[0;32m--> 349\u001b[0m     \u001b[38;5;28;01mreturn\u001b[39;00m \u001b[38;5;28;43mself\u001b[39;49m\u001b[38;5;241;43m.\u001b[39;49m\u001b[43mfunc\u001b[49m\u001b[43m(\u001b[49m\u001b[38;5;241;43m*\u001b[39;49m\u001b[43margs\u001b[49m\u001b[43m,\u001b[49m\u001b[43m \u001b[49m\u001b[38;5;241;43m*\u001b[39;49m\u001b[38;5;241;43m*\u001b[39;49m\u001b[43mkwargs\u001b[49m\u001b[43m)\u001b[49m\n",
      "File \u001b[0;32m~/.local/lib/python3.9/site-packages/nilearn/maskers/nifti_labels_masker.py:37\u001b[0m, in \u001b[0;36m_ExtractionFunctor.__call__\u001b[0;34m(self, imgs)\u001b[0m\n\u001b[1;32m     34\u001b[0m \u001b[38;5;28;01mdef\u001b[39;00m \u001b[38;5;21m__call__\u001b[39m(\u001b[38;5;28mself\u001b[39m, imgs):\n\u001b[1;32m     35\u001b[0m     \u001b[38;5;28;01mfrom\u001b[39;00m \u001b[38;5;21;01m.\u001b[39;00m\u001b[38;5;21;01m.\u001b[39;00m\u001b[38;5;21;01mregions\u001b[39;00m \u001b[38;5;28;01mimport\u001b[39;00m signal_extraction\n\u001b[0;32m---> 37\u001b[0m     \u001b[38;5;28;01mreturn\u001b[39;00m \u001b[43msignal_extraction\u001b[49m\u001b[38;5;241;43m.\u001b[39;49m\u001b[43mimg_to_signals_labels\u001b[49m\u001b[43m(\u001b[49m\n\u001b[1;32m     38\u001b[0m \u001b[43m        \u001b[49m\u001b[43mimgs\u001b[49m\u001b[43m,\u001b[49m\u001b[43m \u001b[49m\u001b[38;5;28;43mself\u001b[39;49m\u001b[38;5;241;43m.\u001b[39;49m\u001b[43m_resampled_labels_img_\u001b[49m\u001b[43m,\u001b[49m\n\u001b[1;32m     39\u001b[0m \u001b[43m        \u001b[49m\u001b[43mbackground_label\u001b[49m\u001b[38;5;241;43m=\u001b[39;49m\u001b[38;5;28;43mself\u001b[39;49m\u001b[38;5;241;43m.\u001b[39;49m\u001b[43mbackground_label\u001b[49m\u001b[43m,\u001b[49m\u001b[43m \u001b[49m\u001b[43mstrategy\u001b[49m\u001b[38;5;241;43m=\u001b[39;49m\u001b[38;5;28;43mself\u001b[39;49m\u001b[38;5;241;43m.\u001b[39;49m\u001b[43mstrategy\u001b[49m\u001b[43m,\u001b[49m\n\u001b[1;32m     40\u001b[0m \u001b[43m        \u001b[49m\u001b[43mmask_img\u001b[49m\u001b[38;5;241;43m=\u001b[39;49m\u001b[38;5;28;43mself\u001b[39;49m\u001b[38;5;241;43m.\u001b[39;49m\u001b[43mmask_img\u001b[49m\u001b[43m)\u001b[49m\n",
      "File \u001b[0;32m~/.local/lib/python3.9/site-packages/nilearn/regions/signal_extraction.py:108\u001b[0m, in \u001b[0;36mimg_to_signals_labels\u001b[0;34m(imgs, labels_img, mask_img, background_label, order, strategy)\u001b[0m\n\u001b[1;32m    105\u001b[0m         \u001b[38;5;28;01mraise\u001b[39;00m \u001b[38;5;167;01mValueError\u001b[39;00m(\u001b[38;5;124m\"\u001b[39m\u001b[38;5;124mmask_img and imgs affines must be identical\u001b[39m\u001b[38;5;124m\"\u001b[39m)\n\u001b[1;32m    107\u001b[0m \u001b[38;5;66;03m# Perform computation\u001b[39;00m\n\u001b[0;32m--> 108\u001b[0m labels_data \u001b[38;5;241m=\u001b[39m \u001b[43m_safe_get_data\u001b[49m\u001b[43m(\u001b[49m\u001b[43mlabels_img\u001b[49m\u001b[43m,\u001b[49m\u001b[43m \u001b[49m\u001b[43mensure_finite\u001b[49m\u001b[38;5;241;43m=\u001b[39;49m\u001b[38;5;28;43;01mTrue\u001b[39;49;00m\u001b[43m)\u001b[49m\n\u001b[1;32m    109\u001b[0m labels \u001b[38;5;241m=\u001b[39m \u001b[38;5;28mlist\u001b[39m(np\u001b[38;5;241m.\u001b[39munique(labels_data))\n\u001b[1;32m    110\u001b[0m \u001b[38;5;28;01mif\u001b[39;00m background_label \u001b[38;5;129;01min\u001b[39;00m labels:\n",
      "File \u001b[0;32m~/.local/lib/python3.9/site-packages/nilearn/_utils/niimg.py:55\u001b[0m, in \u001b[0;36m_safe_get_data\u001b[0;34m(img, ensure_finite, copy_data)\u001b[0m\n\u001b[1;32m     51\u001b[0m     img \u001b[38;5;241m=\u001b[39m copy\u001b[38;5;241m.\u001b[39mdeepcopy(img)\n\u001b[1;32m     53\u001b[0m \u001b[38;5;66;03m# typically the line below can double memory usage\u001b[39;00m\n\u001b[1;32m     54\u001b[0m \u001b[38;5;66;03m# that's why we invoke a forced call to the garbage collector\u001b[39;00m\n\u001b[0;32m---> 55\u001b[0m \u001b[43mgc\u001b[49m\u001b[38;5;241;43m.\u001b[39;49m\u001b[43mcollect\u001b[49m\u001b[43m(\u001b[49m\u001b[43m)\u001b[49m\n\u001b[1;32m     57\u001b[0m data \u001b[38;5;241m=\u001b[39m _get_data(img)\n\u001b[1;32m     58\u001b[0m \u001b[38;5;28;01mif\u001b[39;00m ensure_finite:\n",
      "\u001b[0;31mKeyboardInterrupt\u001b[0m: "
     ]
    }
   ],
   "source": [
    "dict_connectome_y = create_dict_connectome(dict_bold_motionless_y)"
   ]
  },
  {
   "cell_type": "code",
   "execution_count": null,
   "id": "b6fc76ef",
   "metadata": {},
   "outputs": [],
   "source": [
    "import pickle\n",
    "my_dict = dict_connectome_y\n",
    "\n",
    "with open(\"connectome_filtre.pkl\", \"wb\") as tf:\n",
    "    pickle.dump(my_dict,tf)\n",
    "\n"
   ]
  }
 ],
 "metadata": {
  "kernelspec": {
   "display_name": "Python 3 (ipykernel)",
   "language": "python",
   "name": "python3"
  },
  "language_info": {
   "codemirror_mode": {
    "name": "ipython",
    "version": 3
   },
   "file_extension": ".py",
   "mimetype": "text/x-python",
   "name": "python",
   "nbconvert_exporter": "python",
   "pygments_lexer": "ipython3",
   "version": "3.9.12"
  }
 },
 "nbformat": 4,
 "nbformat_minor": 5
}
