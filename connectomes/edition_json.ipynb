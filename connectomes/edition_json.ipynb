{
 "cells": [
  {
   "cell_type": "code",
   "execution_count": 6,
   "id": "7d433621",
   "metadata": {},
   "outputs": [],
   "source": [
    "import glob\n",
    "import json\n",
    "import logging\n",
    "import os\n",
    "import sys\n",
    "\n",
    "\n",
    "logger = logging.getLogger(__name__)\n",
    "\n",
    "\n",
    "def set_field(metadata, field, value, *, json_filename):\n",
    "    if field in metadata:\n",
    "        if metadata[field] == value:\n",
    "            logger.debug('In %s, %s already set to %r',\n",
    "                         json_filename, field, value)\n",
    "        else:\n",
    "            logger.warning('In %s, %s already is set to %r instead of %r',\n",
    "                           json_filename, field, metadata[field], value)\n",
    "    else:\n",
    "        logger.info('In %s, setting %s to %s',\n",
    "                    json_filename, field, value)\n",
    "        metadata[field] = value\n",
    "\n",
    "\n",
    "SLICE_ORDER = [\n",
    "    [0, 23, 46],\n",
    "    [1, 24, 47],\n",
    "    [2, 25, 48],\n",
    "    [3, 26, 49],\n",
    "    [4, 27, 50],\n",
    "    [5, 28, 51],\n",
    "    [6, 29, 52],\n",
    "    [7, 30, 53],\n",
    "    [8, 31, 54],\n",
    "    [9, 32, 55],\n",
    "    [10, 33, 56],\n",
    "    [11, 34, 57],\n",
    "    [12, 35, 58],\n",
    "    [13, 36, 59],\n",
    "    [14, 37, 60],\n",
    "    [15, 38, 61],\n",
    "    [16, 39, 62],\n",
    "    [17, 40, 63],\n",
    "    [18, 41, 64],\n",
    "    [19, 42, 65],\n",
    "    [20, 43, 66],\n",
    "    [21, 44, 67],\n",
    "    [22, 45, 68]\n",
    "]\n",
    "\n",
    "\n",
    "def compute_slice_timing(TR):\n",
    "    number_of_slices = max(max(l) for l in SLICE_ORDER) + 1\n",
    "    number_of_excitations = len(SLICE_ORDER)\n",
    "    slice_timing = [None] * number_of_slices\n",
    "    for excitation_order, slices in enumerate(SLICE_ORDER):\n",
    "        excitation_time = TR / number_of_excitations * excitation_order\n",
    "        for s in slices:\n",
    "            slice_timing[s] = excitation_time\n",
    "    assert None not in slice_timing\n",
    "    return slice_timing\n",
    "\n",
    "\n"
   ]
  },
  {
   "cell_type": "code",
   "execution_count": 7,
   "id": "88b9c029",
   "metadata": {},
   "outputs": [],
   "source": [
    "a = compute_slice_timing(2.7)"
   ]
  },
  {
   "cell_type": "code",
   "execution_count": 8,
   "id": "f9abda07",
   "metadata": {
    "scrolled": false
   },
   "outputs": [
    {
     "name": "stdout",
     "output_type": "stream",
     "text": [
      "0.0\n",
      "0.11739130434782609\n",
      "0.23478260869565218\n",
      "0.3521739130434783\n",
      "0.46956521739130436\n",
      "0.5869565217391305\n",
      "0.7043478260869566\n",
      "0.8217391304347826\n",
      "0.9391304347826087\n",
      "1.056521739130435\n",
      "1.173913043478261\n",
      "1.291304347826087\n",
      "1.4086956521739131\n",
      "1.5260869565217392\n",
      "1.6434782608695653\n",
      "1.7608695652173914\n",
      "1.8782608695652174\n",
      "1.9956521739130435\n",
      "2.11304347826087\n",
      "2.230434782608696\n",
      "2.347826086956522\n",
      "2.465217391304348\n",
      "2.582608695652174\n",
      "0.0\n",
      "0.11739130434782609\n",
      "0.23478260869565218\n",
      "0.3521739130434783\n",
      "0.46956521739130436\n",
      "0.5869565217391305\n",
      "0.7043478260869566\n",
      "0.8217391304347826\n",
      "0.9391304347826087\n",
      "1.056521739130435\n",
      "1.173913043478261\n",
      "1.291304347826087\n",
      "1.4086956521739131\n",
      "1.5260869565217392\n",
      "1.6434782608695653\n",
      "1.7608695652173914\n",
      "1.8782608695652174\n",
      "1.9956521739130435\n",
      "2.11304347826087\n",
      "2.230434782608696\n",
      "2.347826086956522\n",
      "2.465217391304348\n",
      "2.582608695652174\n",
      "0.0\n",
      "0.11739130434782609\n",
      "0.23478260869565218\n",
      "0.3521739130434783\n",
      "0.46956521739130436\n",
      "0.5869565217391305\n",
      "0.7043478260869566\n",
      "0.8217391304347826\n",
      "0.9391304347826087\n",
      "1.056521739130435\n",
      "1.173913043478261\n",
      "1.291304347826087\n",
      "1.4086956521739131\n",
      "1.5260869565217392\n",
      "1.6434782608695653\n",
      "1.7608695652173914\n",
      "1.8782608695652174\n",
      "1.9956521739130435\n",
      "2.11304347826087\n",
      "2.230434782608696\n",
      "2.347826086956522\n",
      "2.465217391304348\n",
      "2.582608695652174\n"
     ]
    }
   ],
   "source": [
    "for i in a:\n",
    "    print(i)"
   ]
  },
  {
   "cell_type": "code",
   "execution_count": 11,
   "id": "c6d2ea05",
   "metadata": {},
   "outputs": [
    {
     "name": "stdout",
     "output_type": "stream",
     "text": [
      "readme\n"
     ]
    }
   ],
   "source": [
    "#open and read the file after the appending:\n",
    "f = open(\"test.json\", \"r\")\n",
    "print(f.read())"
   ]
  },
  {
   "cell_type": "code",
   "execution_count": 26,
   "id": "60335747",
   "metadata": {},
   "outputs": [],
   "source": [
    "import json\n",
    "\n",
    "with open('test.json', 'r+') as f:\n",
    "    data = json.load(f)\n",
    "    data['SliceTiming'] = a # <--- add `id` value.\n",
    "    f.seek(0)        # <--- should reset file position to the beginning.\n",
    "    json.dump(data, f, indent=4)\n",
    "    f.truncate()     # remove remaining part"
   ]
  },
  {
   "cell_type": "code",
   "execution_count": 30,
   "id": "4dd83fd0",
   "metadata": {},
   "outputs": [],
   "source": [
    "path = \"/home/pierre/Documents/import/RDB_func_clean_st\"\n",
    "\n",
    "liste_json = glob.glob('{}/sub*/*/func/*.json'.format(path))"
   ]
  },
  {
   "cell_type": "code",
   "execution_count": 31,
   "id": "1c02db35",
   "metadata": {},
   "outputs": [],
   "source": [
    "for i in liste_json:\n",
    "    with open(i, 'r+') as f:\n",
    "        data = json.load(f)\n",
    "        data['SliceTiming'] = a # <--- add `st` value.\n",
    "        f.seek(0)        # <--- should reset file position to the beginning.\n",
    "        json.dump(data, f, indent=4)\n",
    "        f.truncate()     # remove remaining part"
   ]
  },
  {
   "cell_type": "code",
   "execution_count": null,
   "id": "a0de2c15",
   "metadata": {},
   "outputs": [],
   "source": []
  }
 ],
 "metadata": {
  "kernelspec": {
   "display_name": "Python 3 (ipykernel)",
   "language": "python",
   "name": "python3"
  },
  "language_info": {
   "codemirror_mode": {
    "name": "ipython",
    "version": 3
   },
   "file_extension": ".py",
   "mimetype": "text/x-python",
   "name": "python",
   "nbconvert_exporter": "python",
   "pygments_lexer": "ipython3",
   "version": "3.9.12"
  }
 },
 "nbformat": 4,
 "nbformat_minor": 5
}
